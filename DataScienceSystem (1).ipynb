{
 "cells": [
  {
   "cell_type": "markdown",
   "id": "00c47cd5-ed41-424f-9c1f-47552918b617",
   "metadata": {},
   "source": [
    "# Data Science Tools and systems"
   ]
  },
  {
   "cell_type": "markdown",
   "id": "14225b92-6a52-4895-a8ac-7e760a292df6",
   "metadata": {},
   "source": [
    "### In this notebook, Data Science Tools and Ecosystem are summarized."
   ]
  },
  {
   "cell_type": "markdown",
   "id": "9ac8261c-4148-4372-ba85-89afe7c5eb2f",
   "metadata": {},
   "source": [
    "**objectives:**\n",
    "\n",
    "- navigating git and github\n",
    "- introduction to python\n",
    "- introduction to R\n",
    "- Data science tools"
   ]
  },
  {
   "cell_type": "markdown",
   "id": "692c9f5c-602e-46f1-a0a7-a0f4a0ab5a6a",
   "metadata": {},
   "source": [
    "Some of the popular languages that Data Scientists use are:"
   ]
  },
  {
   "cell_type": "markdown",
   "id": "7070e4d1-50da-4c87-89e6-e46592557c70",
   "metadata": {},
   "source": [
    "1. python\n",
    "2. R\n",
    "3. julia  "
   ]
  },
  {
   "cell_type": "markdown",
   "id": "e8d4e1f9-db7f-44d5-a119-1c84e083bb8d",
   "metadata": {},
   "source": [
    "Some of the commonly used libraries used by Data Scientists include:"
   ]
  },
  {
   "cell_type": "markdown",
   "id": "05f91429-423f-49a7-9303-0777c57a191e",
   "metadata": {},
   "source": [
    "1. pandas\n",
    "2. numpy\n",
    "3. tenserflow"
   ]
  },
  {
   "cell_type": "markdown",
   "id": "407c625a-6def-43e5-a149-296760d0e9a3",
   "metadata": {},
   "source": [
    "|Data Science Tools|\n",
    "|----------------|\n",
    "| pandas |\n",
    "| numpy |\n",
    "| tensorflow |"
   ]
  },
  {
   "cell_type": "markdown",
   "id": "d100cf65-707d-44cf-894b-1d734cef9c57",
   "metadata": {},
   "source": [
    "### Below are a few examples of evaluating arithmetic expressions in Python"
   ]
  },
  {
   "cell_type": "code",
   "execution_count": 15,
   "id": "ff58b8b6-808c-4f95-931b-c09864218ff1",
   "metadata": {},
   "outputs": [
    {
     "data": {
      "text/plain": [
       "17"
      ]
     },
     "execution_count": 15,
     "metadata": {},
     "output_type": "execute_result"
    }
   ],
   "source": [
    "#  This a simple arithmetic expression to mutiply then add integers\n",
    "(3*4)+5"
   ]
  },
  {
   "cell_type": "code",
   "execution_count": 17,
   "id": "3dff1af9-008f-4174-bc6a-d6e9b874762e",
   "metadata": {},
   "outputs": [
    {
     "data": {
      "text/plain": [
       "3.3333333333333335"
      ]
     },
     "execution_count": 17,
     "metadata": {},
     "output_type": "execute_result"
    }
   ],
   "source": [
    "#  This will convert 200 minutes to hours by diving by 60\n",
    "minutes = 200\n",
    "hours = minutes / 60\n",
    "hours\n"
   ]
  },
  {
   "cell_type": "markdown",
   "id": "b3e661a6-4d18-40ce-b3cc-f4e03154eb7f",
   "metadata": {},
   "source": [
    "## author's name"
   ]
  },
  {
   "cell_type": "markdown",
   "id": "42e53836-55c1-4bd9-ba85-a1f98d911948",
   "metadata": {},
   "source": [
    "Justin shaffer"
   ]
  }
 ],
 "metadata": {
  "kernelspec": {
   "display_name": "Python [conda env:base] *",
   "language": "python",
   "name": "conda-base-py"
  },
  "language_info": {
   "codemirror_mode": {
    "name": "ipython",
    "version": 3
   },
   "file_extension": ".py",
   "mimetype": "text/x-python",
   "name": "python",
   "nbconvert_exporter": "python",
   "pygments_lexer": "ipython3",
   "version": "3.12.7"
  }
 },
 "nbformat": 4,
 "nbformat_minor": 5
}
